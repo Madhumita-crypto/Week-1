{
 "cells": [
  {
   "cell_type": "markdown",
   "id": "b2d7aea9",
   "metadata": {},
   "source": [
    "# Pollution Prediction Model using Random Forest"
   ]
  },
  {
   "cell_type": "code",
   "execution_count": null,
   "id": "23772e55",
   "metadata": {},
   "outputs": [],
   "source": [
    "# Install required packages \n",
    "# !pip install pandas numpy matplotlib seaborn scikit-learn joblib\n"
   ]
  },
  {
   "cell_type": "code",
   "execution_count": null,
   "id": "986df183",
   "metadata": {},
   "outputs": [],
   "source": [
    "# Import required libraries\n",
    "import pandas as pd\n",
    "import numpy as np\n",
    "import matplotlib.pyplot as plt\n",
    "import seaborn as sns\n",
    "\n",
    "from sklearn.multioutput import MultiOutputRegressor\n",
    "from sklearn.ensemble import RandomForestRegressor\n",
    "from sklearn.model_selection import train_test_split\n",
    "from sklearn.metrics import mean_squared_error, r2_score\n",
    "import joblib\n"
   ]
  },
  {
   "cell_type": "code",
   "execution_count": null,
   "id": "8d437568",
   "metadata": {},
   "outputs": [],
   "source": [
    "# Load the dataset\n",
    "df = pd.read_csv('PB_All_2000_2021.csv', sep=';')\n",
    "print(\"Dataset loaded successfully. Shape:\", df.shape)\n"
   ]
  },
  {
   "cell_type": "code",
   "execution_count": null,
   "id": "874e9437",
   "metadata": {},
   "outputs": [],
   "source": [
    "# Convert 'date' column to datetime format and extract year/month\n",
    "df['date'] = pd.to_datetime(df['date'], format='%d.%m.%Y')\n",
    "df['year'] = df['date'].dt.year\n",
    "df['month'] = df['date'].dt.month\n"
   ]
  },
  {
   "cell_type": "code",
   "execution_count": null,
   "id": "da64e8d1",
   "metadata": {},
   "outputs": [],
   "source": [
    "# Sort data by station ID and date\n",
    "df = df.sort_values(by=['id', 'date'])\n",
    "\n",
    "# Handle missing values using median imputation\n",
    "df.fillna(df.median(numeric_only=True), inplace=True)\n",
    "print(\"Missing values handled using median imputation.\")\n"
   ]
  },
  {
   "cell_type": "code",
   "execution_count": null,
   "id": "8c1090c2",
   "metadata": {},
   "outputs": [],
   "source": [
    "# Define target variables and input features\n",
    "pollutants = ['O2', 'NO3', 'NO2', 'SO4', 'PO4', 'CL']\n",
    "features = ['id', 'year', 'NH4', 'BSK5', 'Suspended']\n",
    "\n",
    "# Prepare features (X) and targets (y)\n",
    "X = df[features]\n",
    "y = df[pollutants]\n",
    "\n",
    "# One-hot encode the 'id' column\n",
    "X_encoded = pd.get_dummies(X, columns=['id'], drop_first=True)\n"
   ]
  },
  {
   "cell_type": "code",
   "execution_count": null,
   "id": "4728f367",
   "metadata": {},
   "outputs": [],
   "source": [
    "# Split data into training and testing sets\n",
    "X_train, X_test, y_train, y_test = train_test_split(\n",
    "    X_encoded, y, test_size=0.2, random_state=42\n",
    ")\n",
    "print(\"Data split complete.\")\n",
    "print(\"Training samples:\", X_train.shape[0], \", Testing samples:\", X_test.shape[0])\n"
   ]
  },
  {
   "cell_type": "code",
   "execution_count": null,
   "id": "a0d830e2",
   "metadata": {},
   "outputs": [],
   "source": [
    "# Train MultiOutput Random Forest model\n",
    "model = MultiOutputRegressor(RandomForestRegressor(n_estimators=100, random_state=42))\n",
    "model.fit(X_train, y_train)\n",
    "print(\"Model training complete.\")\n"
   ]
  },
  {
   "cell_type": "code",
   "execution_count": null,
   "id": "0c40f03a",
   "metadata": {},
   "outputs": [],
   "source": [
    "# Predict on the test set\n",
    "y_pred = model.predict(X_test)\n",
    "\n",
    "# Evaluate model performance\n",
    "print(\"\\nModel Performance on Test Set:\")\n",
    "for i, pollutant in enumerate(pollutants):\n",
    "    mse = mean_squared_error(y_test.iloc[:, i], y_pred[:, i])\n",
    "    r2 = r2_score(y_test.iloc[:, i], y_pred[:, i])\n",
    "    print(f\"{pollutant}:\\n   MSE: {mse:.2f}\\n   R² : {r2:.4f}\\n\")\n"
   ]
  },
  {
   "cell_type": "code",
   "execution_count": null,
   "id": "aa9f3ec3",
   "metadata": {},
   "outputs": [],
   "source": [
    "# Plot predicted vs actual values\n",
    "for i, pollutant in enumerate(pollutants):\n",
    "    plt.figure(figsize=(6, 4))\n",
    "    sns.regplot(x=y_test.iloc[:, i], y=y_pred[:, i],\n",
    "                scatter_kws={'alpha': 0.5}, line_kws={'color': 'red'})\n",
    "    plt.xlabel(f\"Actual {pollutant}\")\n",
    "    plt.ylabel(f\"Predicted {pollutant}\")\n",
    "    plt.title(f\"{pollutant} Prediction (R² = {r2_score(y_test.iloc[:, i], y_pred[:, i]):.2f})\")\n",
    "    plt.grid(True)\n",
    "    plt.tight_layout()\n",
    "    plt.show()\n"
   ]
  },
  {
   "cell_type": "code",
   "execution_count": null,
   "id": "908a76f8",
   "metadata": {},
   "outputs": [],
   "source": [
    "# Predict pollutants for a specific station and year\n",
    "station_id = 22\n",
    "year_input = 2024\n",
    "\n",
    "input_data = pd.DataFrame({\n",
    "    'year': [year_input],\n",
    "    'id': [station_id],\n",
    "    'NH4': [0.5],\n",
    "    'BSK5': [3.0],\n",
    "    'Suspended': [10.0]\n",
    "})\n",
    "\n",
    "# One-hot encode and align input columns\n",
    "input_encoded = pd.get_dummies(input_data, columns=['id'])\n",
    "missing_cols = set(X_encoded.columns) - set(input_encoded.columns)\n",
    "for col in missing_cols:\n",
    "    input_encoded[col] = 0\n",
    "input_encoded = input_encoded[X_encoded.columns]\n",
    "\n",
    "# Predict pollutants\n",
    "predicted_pollutants = model.predict(input_encoded)[0]\n",
    "print(f\"\\nPredicted pollutant levels for Station {station_id} in {year_input}:\")\n",
    "for p, val in zip(pollutants, predicted_pollutants):\n",
    "    print(f\"  {p}: {val:.2f}\")\n"
   ]
  },
  {
   "cell_type": "code",
   "execution_count": null,
   "id": "e95b59ad",
   "metadata": {},
   "outputs": [],
   "source": [
    "# Save the model and column structure\n",
    "joblib.dump(model, 'pollution_model.pkl')\n",
    "joblib.dump(X_encoded.columns.tolist(), \"model_columns.pkl\")\n",
    "print(\"Model and model_columns.pkl saved successfully.\")\n"
   ]
  }
 ],
 "metadata": {
  "language_info": {
   "name": "python"
  }
 },
 "nbformat": 4,
 "nbformat_minor": 5
}
