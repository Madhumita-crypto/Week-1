{
 "cells": [
  {
   "cell_type": "code",
   "execution_count": null,
   "id": "23ace251",
   "metadata": {},
   "outputs": [],
   "source": [
    "\n",
    "# !pip install pandas numpy matplotlib seaborn scikit-learn joblib\n",
    "\n",
    "import pandas as pd\n",
    "import numpy as np\n",
    "import matplotlib.pyplot as plt\n",
    "import seaborn as sns\n",
    "\n",
    "from sklearn.multioutput import MultiOutputRegressor\n",
    "from sklearn.ensemble import RandomForestRegressor\n",
    "from sklearn.model_selection import train_test_split\n",
    "from sklearn.metrics import mean_squared_error, r2_score\n",
    "import joblib\n"
   ]
  },
  {
   "cell_type": "code",
   "execution_count": null,
   "id": "25dc3528",
   "metadata": {},
   "outputs": [],
   "source": [
    "\n",
    "df = pd.read_csv('PB_All_2000_2021.csv', sep=';')\n",
    "print(\"✅ Dataset loaded successfully.\")\n",
    "print(\"Shape:\", df.shape)\n"
   ]
  },
  {
   "cell_type": "code",
   "execution_count": null,
   "id": "d717cded",
   "metadata": {},
   "outputs": [],
   "source": [
    "\n",
    "df['date'] = pd.to_datetime(df['date'], format='%d.%m.%Y')\n",
    "df['year'] = df['date'].dt.year\n",
    "df['month'] = df['date'].dt.month\n",
    "df = df.sort_values(by=['id', 'date'])\n"
   ]
  },
  {
   "cell_type": "code",
   "execution_count": null,
   "id": "91c436cd",
   "metadata": {},
   "outputs": [],
   "source": [
    "\n",
    "df.fillna(df.median(numeric_only=True), inplace=True)\n",
    "print(\"✅ Missing values handled via median imputation.\")\n"
   ]
  },
  {
   "cell_type": "code",
   "execution_count": null,
   "id": "4ab7b65a",
   "metadata": {},
   "outputs": [],
   "source": [
    "\n",
    "pollutants = ['O2', 'NO3', 'NO2', 'SO4', 'PO4', 'CL']\n",
    "features = ['id', 'year', 'NH4', 'BSK5', 'Suspended']\n",
    "\n",
    "X = df[features]\n",
    "y = df[pollutants]\n"
   ]
  },
  {
   "cell_type": "code",
   "execution_count": null,
   "id": "08d90f91",
   "metadata": {},
   "outputs": [],
   "source": [
    "\n",
    "X_encoded = pd.get_dummies(X, columns=['id'], drop_first=True)\n"
   ]
  },
  {
   "cell_type": "code",
   "execution_count": null,
   "id": "cdad14f1",
   "metadata": {},
   "outputs": [],
   "source": [
    "\n",
    "X_train, X_test, y_train, y_test = train_test_split(\n",
    "    X_encoded, y, test_size=0.2, random_state=42\n",
    ")\n",
    "\n",
    "print(\"✅ Data split complete.\")\n",
    "print(f\"Training samples: {X_train.shape[0]}, Testing samples: {X_test.shape[0]}\")\n"
   ]
  },
  {
   "cell_type": "code",
   "execution_count": null,
   "id": "bc16cb9c",
   "metadata": {},
   "outputs": [],
   "source": [
    "\n",
    "model = MultiOutputRegressor(RandomForestRegressor(n_estimators=100, random_state=42))\n",
    "model.fit(X_train, y_train)\n",
    "print(\"✅ Model training complete!\")\n"
   ]
  },
  {
   "cell_type": "code",
   "execution_count": null,
   "id": "7709db64",
   "metadata": {},
   "outputs": [],
   "source": [
    "\n",
    "y_pred = model.predict(X_test)\n",
    "\n",
    "print(\"\\n🔍 Model Performance on Test Set:\")\n",
    "for i, pollutant in enumerate(pollutants):\n",
    "    print(f\"{pollutant}:\")\n",
    "    print(f\"   MSE: {mean_squared_error(y_test.iloc[:, i], y_pred[:, i]):.2f}\")\n",
    "    print(f\"   R² : {r2_score(y_test.iloc[:, i], y_pred[:, i]):.4f}\")\n",
    "    print()\n"
   ]
  },
  {
   "cell_type": "code",
   "execution_count": null,
   "id": "63bc0336",
   "metadata": {},
   "outputs": [],
   "source": [
    "\n",
    "for i, pollutant in enumerate(pollutants):\n",
    "    plt.figure(figsize=(6, 4))\n",
    "    sns.regplot(x=y_test.iloc[:, i], y=y_pred[:, i],\n",
    "                scatter_kws={'alpha':0.5}, line_kws={'color':'red'})\n",
    "    plt.xlabel(f\"Actual {pollutant}\")\n",
    "    plt.ylabel(f\"Predicted {pollutant}\")\n",
    "    plt.title(f\"{pollutant} Prediction (R² = {r2_score(y_test.iloc[:, i], y_pred[:, i]):.2f})\")\n",
    "    plt.grid(True)\n",
    "    plt.tight_layout()\n",
    "    plt.show()\n"
   ]
  },
  {
   "cell_type": "code",
   "execution_count": null,
   "id": "1c22d467",
   "metadata": {},
   "outputs": [],
   "source": [
    "\n",
    "station_id = 22\n",
    "year_input = 2024\n",
    "\n",
    "input_data = pd.DataFrame({\n",
    "    'year': [year_input],\n",
    "    'id': [station_id],\n",
    "    'NH4': [0.5],\n",
    "    'BSK5': [3.0],\n",
    "    'Suspended': [10]\n",
    "})\n",
    "\n",
    "input_encoded = pd.get_dummies(input_data, columns=['id'])\n",
    "\n",
    "missing_cols = set(X_encoded.columns) - set(input_encoded.columns)\n",
    "for col in missing_cols:\n",
    "    input_encoded[col] = 0\n",
    "\n",
    "input_encoded = input_encoded[X_encoded.columns]\n",
    "\n",
    "predicted_pollutants = model.predict(input_encoded)[0]\n",
    "\n",
    "print(f\"\\n📌 Predicted pollutant levels for Station {station_id} in {year_input}:\")\n",
    "for p, val in zip(pollutants, predicted_pollutants):\n",
    "    print(f\"  {p}: {val:.2f}\")\n"
   ]
  },
  {
   "cell_type": "code",
   "execution_count": null,
   "id": "2975da6e",
   "metadata": {},
   "outputs": [],
   "source": [
    "import joblib\n",
    "joblib.dump(model, 'pollution_model.pkl')\n",
    "joblib.dump(X_encoded.columns.tolist(), 'model_columns.pkl')\n",
    "print('✅ Model and model_columns.pkl saved successfully!')\n",
    "\n"
   ]
  }
 ],
 "metadata": {
  "language_info": {
   "name": "python"
  }
 },
 "nbformat": 4,
 "nbformat_minor": 5
}
